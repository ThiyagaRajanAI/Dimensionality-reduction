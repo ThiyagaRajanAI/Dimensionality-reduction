{
 "cells": [
  {
   "cell_type": "code",
   "execution_count": 1,
   "id": "3051d127",
   "metadata": {},
   "outputs": [],
   "source": [
    "import numpy as np\n",
    "import matplotlib.pyplot as plt\n",
    "from sklearn.preprocessing import StandardScaler\n",
    "import pandas as pd\n",
    "from sklearn.decomposition import KernelPCA\n"
   ]
  },
  {
   "cell_type": "code",
   "execution_count": 2,
   "id": "6bb4943f",
   "metadata": {},
   "outputs": [],
   "source": [
    "def split_scalar(X,y):\n",
    "    from sklearn.model_selection import train_test_split\n",
    "    X_train, X_test, y_train, y_test = train_test_split(X, y, test_size = 0.2, random_state = 0)\n",
    "    sc = StandardScaler()\n",
    "    X_train = sc.fit_transform(X_train)\n",
    "    X_test = sc.transform(X_test)\n",
    "    return X_train,X_test,y_train,y_test\n"
   ]
  },
  {
   "cell_type": "code",
   "execution_count": 3,
   "id": "5a8bf7ea",
   "metadata": {},
   "outputs": [],
   "source": [
    "def Kernel_pca(X_train,X_test,n):\n",
    "    kpca = KernelPCA(n_components = n,kernel='rbf')\n",
    "    X_train_kpca = kpca.fit_transform(X_train)\n",
    "    X_test_kpca = kpca.transform(X_test)\n",
    "    return kpca,X_train_kpca,X_test_kpca\n"
   ]
  },
  {
   "cell_type": "code",
   "execution_count": 4,
   "id": "b04042fa",
   "metadata": {},
   "outputs": [],
   "source": [
    "def r2_prediction(regressor,X_test_kpca,y_test):\n",
    "        y_pred = regressor.predict(X_test_kpca)\n",
    "        from sklearn.metrics import r2_score\n",
    "        r2=r2_score(y_test,y_pred)\n",
    "        return r2\n",
    "    \n",
    "def Linear(X_train_kpca,y_train,X_test_kpca):       \n",
    "        # Fitting K-NN to the Training set\n",
    "        from sklearn.linear_model import LinearRegression\n",
    "        regressor = LinearRegression()\n",
    "        regressor.fit(X_train_kpca, y_train)\n",
    "        r2=r2_prediction(regressor,X_test_kpca,y_test)\n",
    "        return  r2   \n",
    "    \n",
    "def svm_linear(X_train_kpca,y_train,X_test_kpca):\n",
    "        from sklearn.svm import SVR\n",
    "        regressor = SVR(kernel = 'linear')\n",
    "        regressor.fit(X_train_kpca, y_train)\n",
    "        r2=r2_prediction(regressor,X_test_kpca,y_test)\n",
    "        return  r2  \n",
    "    \n",
    "def svm_NL(X_train_kpca,y_train,X_test_kpca):\n",
    "        from sklearn.svm import SVR\n",
    "        regressor = SVR(kernel = 'rbf')\n",
    "        regressor.fit(X_train_kpca, y_train)\n",
    "        r2=r2_prediction(regressor,X_test_kpca,y_test)\n",
    "        return  r2  \n",
    "    \n",
    "def Decision(X_train_kpca,y_train,X_test_kpca):\n",
    "        # Fitting K-NN to the Training setC\n",
    "        from sklearn.tree import DecisionTreeRegressor\n",
    "        regressor = DecisionTreeRegressor(random_state = 0)\n",
    "        regressor.fit(X_train_kpca, y_train)\n",
    "        r2=r2_prediction(regressor,X_test_kpca,y_test)\n",
    "        return  r2  \n",
    "     \n",
    "def random(X_train_kpca,y_train,X_test_kpca):       \n",
    "        # Fitting K-NN to the Training set\n",
    "        from sklearn.ensemble import RandomForestRegressor\n",
    "        regressor = RandomForestRegressor(n_estimators = 10, random_state = 0)\n",
    "        regressor.fit(X_train_kpca, y_train)\n",
    "        r2=r2_prediction(regressor,X_test_kpca,y_test)\n",
    "        return  r2 \n",
    "    \n",
    "def kpca_merge(acclin,accrf,accdes,accsvml,accsvmnl): \n",
    "        rfedataframe=pd.DataFrame(index=['KPCA'],columns=['Logistic','Random','Decision','SVMl','SVMnl'])\n",
    "        for number,idex in enumerate(rfedataframe.index):\n",
    "            rfedataframe['Logistic'][idex]=acclin[number] \n",
    "            rfedataframe['Random'][idex]=accrf[number]\n",
    "            rfedataframe['Decision'][idex]=accdes[number]\n",
    "            rfedataframe['SVMl'][idex]=accsvml[number]\n",
    "            rfedataframe['SVMnl'][idex]=accsvmnl[number]\n",
    "        return rfedataframe"
   ]
  },
  {
   "cell_type": "code",
   "execution_count": 5,
   "id": "fbcb0213",
   "metadata": {},
   "outputs": [],
   "source": [
    "# Importing the dataset\n",
    "dataset = pd.read_csv('Wine.csv')\n",
    "X = dataset.iloc[:, 0:13].values\n",
    "y = dataset.iloc[:, 13].values\n"
   ]
  },
  {
   "cell_type": "code",
   "execution_count": 6,
   "id": "39533ee0",
   "metadata": {},
   "outputs": [],
   "source": [
    "X_train, X_test, y_train, y_test=split_scalar(X,y) \n",
    "\n",
    "# created a empty list to append the final value\n",
    "acclin=[]\n",
    "accsvml=[]\n",
    "accsvmnl=[]\n",
    "accdes=[]\n",
    "accrf=[]\n",
    "\n",
    "   \n",
    "kpca,X_train_kpca,X_test_kpca,= Kernel_pca(X_train,X_test,5)\n",
    "\n",
    "r2_lin=Linear(X_train_kpca,y_train,X_test_kpca)\n",
    "acclin.append(r2_lin)\n",
    "\n",
    "r2_sl=svm_linear(X_train_kpca,y_train,X_test_kpca)   \n",
    "accsvml.append(r2_sl)\n",
    "\n",
    "r2_NL=svm_NL(X_train_kpca,y_train,X_test_kpca)\n",
    "accsvmnl.append(r2_NL)\n",
    "\n",
    "r2_d=Decision(X_train_kpca,y_train,X_test_kpca)\n",
    "accdes.append(r2_d)\n",
    "\n",
    "r2_r=random(X_train_kpca,y_train,X_test_kpca)\n",
    "accrf.append(r2_r)\n",
    "    \n",
    "result = kpca_merge(acclin,accsvml,accsvmnl,accdes,accrf)"
   ]
  },
  {
   "cell_type": "code",
   "execution_count": 7,
   "id": "89b54fe3",
   "metadata": {},
   "outputs": [
    {
     "data": {
      "text/html": [
       "<div>\n",
       "<style scoped>\n",
       "    .dataframe tbody tr th:only-of-type {\n",
       "        vertical-align: middle;\n",
       "    }\n",
       "\n",
       "    .dataframe tbody tr th {\n",
       "        vertical-align: top;\n",
       "    }\n",
       "\n",
       "    .dataframe thead th {\n",
       "        text-align: right;\n",
       "    }\n",
       "</style>\n",
       "<table border=\"1\" class=\"dataframe\">\n",
       "  <thead>\n",
       "    <tr style=\"text-align: right;\">\n",
       "      <th></th>\n",
       "      <th>Logistic</th>\n",
       "      <th>Random</th>\n",
       "      <th>Decision</th>\n",
       "      <th>SVMl</th>\n",
       "      <th>SVMnl</th>\n",
       "    </tr>\n",
       "  </thead>\n",
       "  <tbody>\n",
       "    <tr>\n",
       "      <th>KPCA</th>\n",
       "      <td>0.907981</td>\n",
       "      <td>0.897217</td>\n",
       "      <td>0.962011</td>\n",
       "      <td>0.945122</td>\n",
       "      <td>0.975854</td>\n",
       "    </tr>\n",
       "  </tbody>\n",
       "</table>\n",
       "</div>"
      ],
      "text/plain": [
       "      Logistic    Random  Decision      SVMl     SVMnl\n",
       "KPCA  0.907981  0.897217  0.962011  0.945122  0.975854"
      ]
     },
     "execution_count": 7,
     "metadata": {},
     "output_type": "execute_result"
    }
   ],
   "source": [
    "result"
   ]
  },
  {
   "cell_type": "code",
   "execution_count": null,
   "id": "dfd13036",
   "metadata": {},
   "outputs": [],
   "source": []
  },
  {
   "cell_type": "code",
   "execution_count": null,
   "id": "ac98a9f2",
   "metadata": {},
   "outputs": [],
   "source": []
  },
  {
   "cell_type": "code",
   "execution_count": null,
   "id": "0c3b54ff",
   "metadata": {},
   "outputs": [],
   "source": []
  },
  {
   "cell_type": "code",
   "execution_count": null,
   "id": "2518fb23",
   "metadata": {},
   "outputs": [],
   "source": []
  },
  {
   "cell_type": "code",
   "execution_count": null,
   "id": "c526947d",
   "metadata": {},
   "outputs": [],
   "source": []
  },
  {
   "cell_type": "code",
   "execution_count": null,
   "id": "9ea4c5da",
   "metadata": {},
   "outputs": [],
   "source": []
  },
  {
   "cell_type": "code",
   "execution_count": null,
   "id": "dba5f0a7",
   "metadata": {},
   "outputs": [],
   "source": []
  }
 ],
 "metadata": {
  "kernelspec": {
   "display_name": "Python 3 (ipykernel)",
   "language": "python",
   "name": "python3"
  },
  "language_info": {
   "codemirror_mode": {
    "name": "ipython",
    "version": 3
   },
   "file_extension": ".py",
   "mimetype": "text/x-python",
   "name": "python",
   "nbconvert_exporter": "python",
   "pygments_lexer": "ipython3",
   "version": "3.7.6"
  }
 },
 "nbformat": 4,
 "nbformat_minor": 5
}
