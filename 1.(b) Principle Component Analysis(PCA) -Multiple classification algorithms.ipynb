{
 "cells": [
  {
   "cell_type": "code",
   "execution_count": 1,
   "id": "03a2c044",
   "metadata": {},
   "outputs": [],
   "source": [
    "import numpy as np\n",
    "import matplotlib.pyplot as plt\n",
    "from sklearn.preprocessing import StandardScaler\n",
    "import pandas as pd\n",
    "from sklearn.decomposition import PCA\n"
   ]
  },
  {
   "cell_type": "code",
   "execution_count": 2,
   "id": "457fd344",
   "metadata": {},
   "outputs": [],
   "source": [
    "def split_scalar(X,y):\n",
    "    from sklearn.model_selection import train_test_split\n",
    "    X_train, X_test, y_train, y_test = train_test_split(X, y, test_size = 0.2, random_state = 0)\n",
    "    sc = StandardScaler()\n",
    "    X_train = sc.fit_transform(X_train)\n",
    "    X_test = sc.transform(X_test)\n",
    "    return X_train,X_test,y_train,y_test\n"
   ]
  },
  {
   "cell_type": "code",
   "execution_count": 3,
   "id": "232ce04a",
   "metadata": {},
   "outputs": [],
   "source": [
    "def perform_pca(X_train,X_test,n):\n",
    "    pca = PCA(n_components=n)\n",
    "    X_train_pca = pca.fit_transform(X_train)\n",
    "    X_test_pca = pca.transform(X_test)\n",
    "    explained_variance = pca.explained_variance_ratio_\n",
    "    return pca,X_train_pca, X_test_pca,explained_variance\n"
   ]
  },
  {
   "cell_type": "code",
   "execution_count": 4,
   "id": "41998b77",
   "metadata": {},
   "outputs": [],
   "source": [
    "def logistic(X_train_pca,y_train,X_test_pca):\n",
    "    from sklearn.linear_model import LogisticRegression\n",
    "    classifier = LogisticRegression(random_state = 0)\n",
    "    classifier.fit(X_train_pca, y_train)\n",
    "    cm,accuracy,classifier = cm_predition(classifier,X_test_pca)\n",
    "    return cm,accuracy,classifier\n",
    "\n",
    "def svm_linear(X_train_pca,y_train,X_test_pca):\n",
    "    from sklearn.svm import SVC\n",
    "    classifier = SVC(kernel = 'linear', random_state = 0)\n",
    "    classifier.fit(X_train_pca, y_train)\n",
    "    cm,accuracy,classifier = cm_predition(classifier,X_test_pca)\n",
    "    return  cm,accuracy,classifier\n",
    "           \n",
    "def svm_NL(X_train_pca,y_train,X_test_pca):\n",
    "    from sklearn.svm import SVC\n",
    "    classifier = SVC(kernel = 'rbf', random_state = 0)\n",
    "    classifier.fit(X_train_pca, y_train)\n",
    "    cm,accuracy,classifier = cm_predition(classifier,X_test_pca)\n",
    "    return  cm,accuracy,classifier\n",
    "\n",
    "def Navie(X_train_pca,y_train,X_test_pca):       \n",
    "    # Fitting K-NN to the Training set\n",
    "    from sklearn.naive_bayes import GaussianNB\n",
    "    classifier = GaussianNB()\n",
    "    classifier.fit(X_train_pca, y_train)\n",
    "    cm,accuracy,classifier = cm_predition(classifier,X_test_pca)\n",
    "    return  cm,accuracy,classifier \n",
    "\n",
    "def knn(X_train_pca,y_train,X_test_pca):\n",
    "    # Fitting K-NN to the Training set\n",
    "    from sklearn.neighbors import KNeighborsClassifier\n",
    "    classifier = KNeighborsClassifier(n_neighbors = 5, metric = 'minkowski', p = 2)\n",
    "    classifier.fit(X_train_pca, y_train)\n",
    "    cm,accuracy,classifier = cm_predition(classifier,X_test_pca)\n",
    "    return  cm,accuracy,classifier\n",
    "\n",
    "def Decision(X_train_pca,y_train,X_test_pca):\n",
    "    # Fitting K-NN to the Training set\n",
    "    from sklearn.tree import DecisionTreeClassifier\n",
    "    classifier = DecisionTreeClassifier(criterion = 'entropy', random_state = 0)\n",
    "    classifier.fit(X_train_pca, y_train)\n",
    "    cm,accuracy,classifier = cm_predition(classifier,X_test_pca)\n",
    "    return  cm,accuracy,classifier     \n",
    "\n",
    "def random(X_train_pca,y_train,X_test_pca):\n",
    "    # Fitting K-NN to the Training set\n",
    "    from sklearn.ensemble import RandomForestClassifier\n",
    "    classifier = RandomForestClassifier(n_estimators = 10, criterion = 'entropy', random_state = 0)\n",
    "    classifier.fit(X_train_pca, y_train)\n",
    "    cm,accuracy,classifier = cm_predition(classifier,X_test_pca)\n",
    "    return  cm,accuracy,classifier\n"
   ]
  },
  {
   "cell_type": "code",
   "execution_count": 5,
   "id": "2a9dc03c",
   "metadata": {},
   "outputs": [],
   "source": [
    "def cm_predition (classifier,X_test_pca):\n",
    "    y_pred = classifier.predict(X_test_pca)\n",
    "    from sklearn.metrics import confusion_matrix\n",
    "    cm = confusion_matrix(y_test, y_pred)\n",
    "    from sklearn.metrics import accuracy_score\n",
    "    accuracy= accuracy_score(y_test, y_pred)\n",
    "    return cm,accuracy,classifier"
   ]
  },
  {
   "cell_type": "code",
   "execution_count": 6,
   "id": "2f72f979",
   "metadata": {},
   "outputs": [],
   "source": [
    "def pca_merge(acclog,accsvmlin,accsvmnl,accnav,accknn,accdec,accrand): \n",
    "    dataframe=pd.DataFrame(index=['PCA'],columns=['Logistic','SVMlin','SVMNL','Navie','KNN','DT','RF'])\n",
    "    for number,index in enumerate(dataframe.index):      \n",
    "        dataframe['Logistic'][index]=acclog[number]\n",
    "        dataframe['SVMlin'][index]=accsvmlin[number] \n",
    "        dataframe['SVMNL'][index]=accsvmnl[number] \n",
    "        dataframe['Navie'][index]=accnav[number] \n",
    "        dataframe['KNN'][index]=accknn[number] \n",
    "        dataframe['DT'][index]=accdec[number] \n",
    "        dataframe['RF'][index]=accrand[number] \n",
    "    return dataframe\n"
   ]
  },
  {
   "cell_type": "code",
   "execution_count": 7,
   "id": "0e40bea3",
   "metadata": {},
   "outputs": [],
   "source": [
    "dataset1=pd.read_csv(\"prep.csv\",index_col=None)\n",
    "\n",
    "df2=dataset1\n",
    "\n",
    "df2 = pd.get_dummies(df2, drop_first=True)\n",
    "\n",
    "X=df2.drop('classification_yes', 1)\n",
    "y=df2['classification_yes']"
   ]
  },
  {
   "cell_type": "code",
   "execution_count": 8,
   "id": "48286b08",
   "metadata": {},
   "outputs": [],
   "source": [
    "# created a empty list to append the final value\n",
    "acclog=[]\n",
    "accsvmlin=[]\n",
    "accsvmnl=[]\n",
    "accnav=[]\n",
    "accknn=[]\n",
    "accdec=[]\n",
    "accrand=[]\n",
    "\n",
    "X_train, X_test, y_train, y_test=split_scalar(X,y) \n",
    "\n",
    "pca,X_train_pca,X_test_pca,explained_variance = perform_pca(X_train,X_test,4)\n",
    "\n",
    "cm,accuracy,classifier=logistic(X_train_pca,y_train,X_test_pca)\n",
    "acclog.append(accuracy)\n",
    "\n",
    "cm,accuracy,classifier=svm_linear(X_train_pca,y_train,X_test_pca)\n",
    "accsvmlin.append(accuracy)\n",
    "\n",
    "cm,accuracy,classifier=svm_NL(X_train_pca,y_train,X_test_pca)\n",
    "accsvmnl.append(accuracy)\n",
    "\n",
    "cm,accuracy,classifier=Navie(X_train_pca,y_train,X_test_pca)\n",
    "accnav.append(accuracy)\n",
    "\n",
    "cm,accuracy,classifier=knn(X_train_pca,y_train,X_test_pca)\n",
    "accknn.append(accuracy)\n",
    "\n",
    "cm,accuracy,classifier=Decision(X_train_pca,y_train,X_test_pca)\n",
    "accdec.append(accuracy)\n",
    "\n",
    "cm,accuracy,classifier=random(X_train_pca,y_train,X_test_pca)\n",
    "accrand.append(accuracy)\n",
    "\n",
    "result = pca_merge(acclog,accsvmlin,accsvmnl,accnav,accknn,accdec,accrand)"
   ]
  },
  {
   "cell_type": "code",
   "execution_count": 9,
   "id": "07898ade",
   "metadata": {},
   "outputs": [
    {
     "data": {
      "text/html": [
       "<div>\n",
       "<style scoped>\n",
       "    .dataframe tbody tr th:only-of-type {\n",
       "        vertical-align: middle;\n",
       "    }\n",
       "\n",
       "    .dataframe tbody tr th {\n",
       "        vertical-align: top;\n",
       "    }\n",
       "\n",
       "    .dataframe thead th {\n",
       "        text-align: right;\n",
       "    }\n",
       "</style>\n",
       "<table border=\"1\" class=\"dataframe\">\n",
       "  <thead>\n",
       "    <tr style=\"text-align: right;\">\n",
       "      <th></th>\n",
       "      <th>Logistic</th>\n",
       "      <th>SVMlin</th>\n",
       "      <th>SVMNL</th>\n",
       "      <th>Navie</th>\n",
       "      <th>KNN</th>\n",
       "      <th>DT</th>\n",
       "      <th>RF</th>\n",
       "    </tr>\n",
       "  </thead>\n",
       "  <tbody>\n",
       "    <tr>\n",
       "      <th>PCA</th>\n",
       "      <td>0.9875</td>\n",
       "      <td>0.9875</td>\n",
       "      <td>1</td>\n",
       "      <td>0.9875</td>\n",
       "      <td>1</td>\n",
       "      <td>1</td>\n",
       "      <td>1</td>\n",
       "    </tr>\n",
       "  </tbody>\n",
       "</table>\n",
       "</div>"
      ],
      "text/plain": [
       "    Logistic  SVMlin SVMNL   Navie KNN DT RF\n",
       "PCA   0.9875  0.9875     1  0.9875   1  1  1"
      ]
     },
     "execution_count": 9,
     "metadata": {},
     "output_type": "execute_result"
    }
   ],
   "source": [
    "result"
   ]
  },
  {
   "cell_type": "code",
   "execution_count": null,
   "id": "a5a95264",
   "metadata": {},
   "outputs": [],
   "source": []
  },
  {
   "cell_type": "code",
   "execution_count": null,
   "id": "bdab0181",
   "metadata": {},
   "outputs": [],
   "source": []
  },
  {
   "cell_type": "code",
   "execution_count": null,
   "id": "b57b8ff0",
   "metadata": {},
   "outputs": [],
   "source": []
  },
  {
   "cell_type": "code",
   "execution_count": null,
   "id": "70b859bc",
   "metadata": {},
   "outputs": [],
   "source": []
  },
  {
   "cell_type": "code",
   "execution_count": null,
   "id": "6b1d8b5b",
   "metadata": {},
   "outputs": [],
   "source": []
  },
  {
   "cell_type": "code",
   "execution_count": null,
   "id": "c413d522",
   "metadata": {},
   "outputs": [],
   "source": []
  },
  {
   "cell_type": "code",
   "execution_count": null,
   "id": "1150a279",
   "metadata": {},
   "outputs": [],
   "source": []
  }
 ],
 "metadata": {
  "kernelspec": {
   "display_name": "Python 3 (ipykernel)",
   "language": "python",
   "name": "python3"
  },
  "language_info": {
   "codemirror_mode": {
    "name": "ipython",
    "version": 3
   },
   "file_extension": ".py",
   "mimetype": "text/x-python",
   "name": "python",
   "nbconvert_exporter": "python",
   "pygments_lexer": "ipython3",
   "version": "3.7.6"
  }
 },
 "nbformat": 4,
 "nbformat_minor": 5
}
