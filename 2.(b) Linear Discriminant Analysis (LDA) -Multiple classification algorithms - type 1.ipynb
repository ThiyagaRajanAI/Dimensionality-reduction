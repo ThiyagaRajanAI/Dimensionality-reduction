{
 "cells": [
  {
   "cell_type": "code",
   "execution_count": 1,
   "id": "03a2c044",
   "metadata": {},
   "outputs": [],
   "source": [
    "import numpy as np\n",
    "import matplotlib.pyplot as plt\n",
    "from sklearn.preprocessing import StandardScaler\n",
    "import pandas as pd\n",
    "from sklearn.decomposition import PCA\n",
    "from sklearn.discriminant_analysis import LinearDiscriminantAnalysis as LDA"
   ]
  },
  {
   "cell_type": "code",
   "execution_count": 2,
   "id": "457fd344",
   "metadata": {},
   "outputs": [],
   "source": [
    "def split_scalar(X,y):\n",
    "    from sklearn.model_selection import train_test_split\n",
    "    X_train, X_test, y_train, y_test = train_test_split(X, y, test_size = 0.2, random_state = 0)\n",
    "    sc = StandardScaler()\n",
    "    X_train = sc.fit_transform(X_train)\n",
    "    X_test = sc.transform(X_test)\n",
    "    return X_train,X_test,y_train,y_test\n"
   ]
  },
  {
   "cell_type": "code",
   "execution_count": 3,
   "id": "232ce04a",
   "metadata": {},
   "outputs": [],
   "source": [
    "from sklearn.discriminant_analysis import LinearDiscriminantAnalysis as LDA\n",
    "def perform_LDA(X_train,y_train,X_test,n):\n",
    "    lda=LDA(n_components=n)\n",
    "    X_train_LDA=lda.fit_transform(X_train,y_train)\n",
    "    X_test_LDA=lda.transform(X_test)\n",
    "    return lda,X_train_LDA, X_test_LDA\n"
   ]
  },
  {
   "cell_type": "code",
   "execution_count": 4,
   "id": "41998b77",
   "metadata": {},
   "outputs": [],
   "source": [
    "def logistic(X_train_LDA,y_train,X_test_LDA):\n",
    "    from sklearn.linear_model import LogisticRegression\n",
    "    classifier = LogisticRegression(random_state = 0)\n",
    "    classifier.fit(X_train_LDA, y_train)\n",
    "    cm,accuracy,classifier = cm_predition(classifier,X_test_LDA)\n",
    "    return cm,accuracy,classifier\n",
    "\n",
    "def svm_linear(X_train_LDA,y_train,X_test_LDA):\n",
    "    from sklearn.svm import SVC\n",
    "    classifier = SVC(kernel = 'linear', random_state = 0)\n",
    "    classifier.fit(X_train_LDA, y_train)\n",
    "    cm,accuracy,classifier = cm_predition(classifier,X_test_LDA)\n",
    "    return  cm,accuracy,classifier\n",
    "           \n",
    "def svm_NL(X_train_LDA,y_train,X_test_LDA):\n",
    "    from sklearn.svm import SVC\n",
    "    classifier = SVC(kernel = 'rbf', random_state = 0)\n",
    "    classifier.fit(X_train_LDA, y_train)\n",
    "    cm,accuracy,classifier = cm_predition(classifier,X_test_LDA)\n",
    "    return  cm,accuracy,classifier\n",
    "\n",
    "def Navie(X_train_LDA,y_train,X_test_LDA):       \n",
    "    # Fitting K-NN to the Training set\n",
    "    from sklearn.naive_bayes import GaussianNB\n",
    "    classifier = GaussianNB()\n",
    "    classifier.fit(X_train_LDA, y_train)\n",
    "    cm,accuracy,classifier = cm_predition(classifier,X_test_LDA)\n",
    "    return  cm,accuracy,classifier \n",
    "\n",
    "def knn(X_train_LDA,y_train,X_test_LDA):\n",
    "    # Fitting K-NN to the Training set\n",
    "    from sklearn.neighbors import KNeighborsClassifier\n",
    "    classifier = KNeighborsClassifier(n_neighbors = 5, metric = 'minkowski', p = 2)\n",
    "    classifier.fit(X_train_LDA, y_train)\n",
    "    cm,accuracy,classifier = cm_predition(classifier,X_test_LDA)\n",
    "    return  cm,accuracy,classifier\n",
    "\n",
    "def Decision(X_train_LDA,y_train,X_test_LDA):\n",
    "    # Fitting K-NN to the Training set\n",
    "    from sklearn.tree import DecisionTreeClassifier\n",
    "    classifier = DecisionTreeClassifier(criterion = 'entropy', random_state = 0)\n",
    "    classifier.fit(X_train_LDA, y_train)\n",
    "    cm,accuracy,classifier = cm_predition(classifier,X_test_LDA)\n",
    "    return  cm,accuracy,classifier     \n",
    "\n",
    "def random(X_train_LDA,y_train,X_test_LDA):\n",
    "    # Fitting K-NN to the Training set\n",
    "    from sklearn.ensemble import RandomForestClassifier\n",
    "    classifier = RandomForestClassifier(n_estimators = 10, criterion = 'entropy', random_state = 0)\n",
    "    classifier.fit(X_train_LDA, y_train)\n",
    "    cm,accuracy,classifier = cm_predition(classifier,X_test_LDA)\n",
    "    return  cm,accuracy,classifier\n"
   ]
  },
  {
   "cell_type": "code",
   "execution_count": 5,
   "id": "2a9dc03c",
   "metadata": {},
   "outputs": [],
   "source": [
    "def cm_predition (classifier,X_test_pca):\n",
    "    y_pred = classifier.predict(X_test_pca)\n",
    "    from sklearn.metrics import confusion_matrix\n",
    "    cm = confusion_matrix(y_test, y_pred)\n",
    "    from sklearn.metrics import accuracy_score\n",
    "    accuracy= accuracy_score(y_test, y_pred)\n",
    "    return cm,accuracy,classifier"
   ]
  },
  {
   "cell_type": "code",
   "execution_count": 6,
   "id": "2f72f979",
   "metadata": {},
   "outputs": [],
   "source": [
    "def LDA_merge(acclog,accsvmlin,accsvmnl,accnav,accknn,accdec,accrand): \n",
    "    dataframe=pd.DataFrame(index=['LDA'],columns=['Logistic','SVMlin','SVMNL','Navie','KNN','DT','RF'])\n",
    "    for number,index in enumerate(dataframe.index):      \n",
    "        dataframe['Logistic'][index]=acclog[number]\n",
    "        dataframe['SVMlin'][index]=accsvmlin[number] \n",
    "        dataframe['SVMNL'][index]=accsvmnl[number] \n",
    "        dataframe['Navie'][index]=accnav[number] \n",
    "        dataframe['KNN'][index]=accknn[number] \n",
    "        dataframe['DT'][index]=accdec[number] \n",
    "        dataframe['RF'][index]=accrand[number] \n",
    "    return dataframe\n"
   ]
  },
  {
   "cell_type": "code",
   "execution_count": 7,
   "id": "0e40bea3",
   "metadata": {},
   "outputs": [],
   "source": [
    "dataset1=pd.read_csv(\"prep.csv\",index_col=None)\n",
    "\n",
    "df2=dataset1\n",
    "\n",
    "df2 = pd.get_dummies(df2, drop_first=True)\n",
    "\n",
    "X=df2.drop('classification_yes', 1)\n",
    "y=df2['classification_yes']\n"
   ]
  },
  {
   "cell_type": "code",
   "execution_count": 8,
   "id": "e17ef03f",
   "metadata": {},
   "outputs": [],
   "source": [
    "X_train,X_test,y_train,y_test=split_scalar(X,y)"
   ]
  },
  {
   "cell_type": "code",
   "execution_count": 9,
   "id": "22dba6bb",
   "metadata": {},
   "outputs": [],
   "source": [
    "n_components = min(X_train.shape[1], len(np.unique(y_train))) - 1"
   ]
  },
  {
   "cell_type": "code",
   "execution_count": 10,
   "id": "168de381",
   "metadata": {},
   "outputs": [
    {
     "data": {
      "text/plain": [
       "1"
      ]
     },
     "execution_count": 10,
     "metadata": {},
     "output_type": "execute_result"
    }
   ],
   "source": [
    "n_components"
   ]
  },
  {
   "cell_type": "code",
   "execution_count": 11,
   "id": "0af0ec1d",
   "metadata": {},
   "outputs": [
    {
     "data": {
      "text/plain": [
       "27"
      ]
     },
     "execution_count": 11,
     "metadata": {},
     "output_type": "execute_result"
    }
   ],
   "source": [
    "X_train.shape[1]"
   ]
  },
  {
   "cell_type": "code",
   "execution_count": 12,
   "id": "a0fb72e0",
   "metadata": {},
   "outputs": [
    {
     "data": {
      "text/plain": [
       "array([0, 1], dtype=uint8)"
      ]
     },
     "execution_count": 12,
     "metadata": {},
     "output_type": "execute_result"
    }
   ],
   "source": [
    "np.unique(y_train)"
   ]
  },
  {
   "cell_type": "code",
   "execution_count": 13,
   "id": "369b334e",
   "metadata": {},
   "outputs": [
    {
     "data": {
      "text/plain": [
       "2"
      ]
     },
     "execution_count": 13,
     "metadata": {},
     "output_type": "execute_result"
    }
   ],
   "source": [
    "len(np.unique(y_train))\n"
   ]
  },
  {
   "cell_type": "code",
   "execution_count": 14,
   "id": "65987517",
   "metadata": {},
   "outputs": [],
   "source": [
    "# created a empty list to append the final value\n",
    "acclog=[]\n",
    "accsvmlin=[]\n",
    "accsvmnl=[]\n",
    "accnav=[]\n",
    "accknn=[]\n",
    "accdec=[]\n",
    "accrand=[]\n",
    "\n",
    "\n",
    "lda,X_train_LDA,X_test_LDA= perform_LDA(X_train,y_train,X_test,1)\n",
    "\n",
    "cm,accuracy,classifier=logistic(X_train_LDA,y_train,X_test_LDA)\n",
    "acclog.append(accuracy)\n",
    "\n",
    "cm,accuracy,classifier=svm_linear(X_train_LDA,y_train,X_test_LDA)\n",
    "accsvmlin.append(accuracy)\n",
    "\n",
    "cm,accuracy,classifier=svm_NL(X_train_LDA,y_train,X_test_LDA)\n",
    "accsvmnl.append(accuracy)\n",
    "\n",
    "cm,accuracy,classifier=Navie(X_train_LDA,y_train,X_test_LDA)\n",
    "accnav.append(accuracy)\n",
    "\n",
    "cm,accuracy,classifier=knn(X_train_LDA,y_train,X_test_LDA)\n",
    "accknn.append(accuracy)\n",
    "\n",
    "cm,accuracy,classifier=Decision(X_train_LDA,y_train,X_test_LDA)\n",
    "accdec.append(accuracy)\n",
    "\n",
    "cm,accuracy,classifier=random(X_train_LDA,y_train,X_test_LDA)\n",
    "accrand.append(accuracy)"
   ]
  },
  {
   "cell_type": "code",
   "execution_count": 15,
   "id": "bee18349",
   "metadata": {},
   "outputs": [],
   "source": [
    "result=LDA_merge(acclog,accsvmlin,accsvmnl,accnav,accknn,accdec,accrand)"
   ]
  },
  {
   "cell_type": "code",
   "execution_count": 16,
   "id": "07898ade",
   "metadata": {},
   "outputs": [
    {
     "data": {
      "text/html": [
       "<div>\n",
       "<style scoped>\n",
       "    .dataframe tbody tr th:only-of-type {\n",
       "        vertical-align: middle;\n",
       "    }\n",
       "\n",
       "    .dataframe tbody tr th {\n",
       "        vertical-align: top;\n",
       "    }\n",
       "\n",
       "    .dataframe thead th {\n",
       "        text-align: right;\n",
       "    }\n",
       "</style>\n",
       "<table border=\"1\" class=\"dataframe\">\n",
       "  <thead>\n",
       "    <tr style=\"text-align: right;\">\n",
       "      <th></th>\n",
       "      <th>Logistic</th>\n",
       "      <th>SVMlin</th>\n",
       "      <th>SVMNL</th>\n",
       "      <th>Navie</th>\n",
       "      <th>KNN</th>\n",
       "      <th>DT</th>\n",
       "      <th>RF</th>\n",
       "    </tr>\n",
       "  </thead>\n",
       "  <tbody>\n",
       "    <tr>\n",
       "      <th>LDA</th>\n",
       "      <td>0.975</td>\n",
       "      <td>0.9625</td>\n",
       "      <td>0.9625</td>\n",
       "      <td>0.975</td>\n",
       "      <td>0.95</td>\n",
       "      <td>0.9625</td>\n",
       "      <td>0.9625</td>\n",
       "    </tr>\n",
       "  </tbody>\n",
       "</table>\n",
       "</div>"
      ],
      "text/plain": [
       "    Logistic  SVMlin   SVMNL  Navie   KNN      DT      RF\n",
       "LDA    0.975  0.9625  0.9625  0.975  0.95  0.9625  0.9625"
      ]
     },
     "execution_count": 16,
     "metadata": {},
     "output_type": "execute_result"
    }
   ],
   "source": [
    "result"
   ]
  },
  {
   "cell_type": "markdown",
   "id": "6b81a4e7",
   "metadata": {},
   "source": [
    " if we enter the values more than 1 in LDA(n_componenets=2,3,4 etc ) below value error will be displayed \n",
    "\n",
    "def perform_LDA(X_train,y_train,X_test,n):\n",
    "    lda=LDA(n_components=n)\n",
    "    X_train_LDA=lda.fit_transform(X_train,y_train)\n",
    "    X_test_LDA=lda.transform(X_test)\n",
    "    return lda,X_train_LDA, X_test_LDA\n",
    "\n",
    "lda,X_train_LDA,X_test_LDA=perform_LDA(X_train,y_train,X_test,2)\n",
    "lda,X_train_LDA,X_test_LDA=perform_LDA(X_train,y_train,X_test,3)\n",
    "lda,X_train_LDA,X_test_LDA=perform_LDA(X_train,y_train,X_test,4)\n",
    "\n",
    "ValueError: n_components cannot be larger than min(n_features, n_classes - 1).\n",
    "\n",
    "\n",
    "Explanation:1\n",
    "\n",
    "The error you're encountering, \"ValueError: n_components cannot be larger than min(n_features, n_classes - 1),\" indicates that the number of components you're trying to use in Linear Discriminant Analysis (LDA) is too large given the dimensions of your data.\n",
    "\n",
    "LDA can only have at most min(n_features, n_classes - 1) components. This is because the number of discriminants is limited by the number of classes in your data. If you have more classes than features or an equal number of classes and features, the maximum number of components is limited by n_classes - 1.\n",
    "\n",
    "To resolve this issue, you can try the following:\n",
    "\n",
    "Check your data dimensions:\n",
    "Ensure that the number of features (n_features) in your data is greater than or equal to the number of classes minus 1 (n_classes - 1). If you have more classes than features, you might need to reduce the number of classes or use a dimensionality reduction technique that is more suitable for your data.\n",
    "\n",
    "Reduce the number of components:\n",
    "If the above condition is satisfied, you should reduce the value of n in your function call to a value less than or equal to min(n_features, n_classes - 1). For example:\n",
    "\n",
    "python -Copy code\n",
    " n_components = min(X_train.shape[1], len(np.unique(y_train))) - 1\n",
    "#lda, X_train_LDA, X_test_LDA = perform_LDA(X_train, y_train, X_test, n_components)\n",
    "\n",
    "This ensures that n does not exceed the maximum number of components allowed by LDA given your data.\n",
    "\n",
    "By following these steps, you should be able to resolve the ValueError related to the number of components in LDA.\n",
    "\n",
    "\n",
    "Explanation:2\n",
    "\n",
    "\n",
    "Sure! Imagine you have a magic machine called LDA that helps you understand and organize your toys. However, this machine has a rule – it can only make as many groups of toys as there are different types of toys minus one.\n",
    "\n",
    "Now, let's say you have some toys that are different colors (let's call them features) and some toys that are different shapes (let's call them classes). The LDA machine wants to group the toys based on both color and shape, but it can only make as many groups as there are different shapes minus one.\n",
    "\n",
    "So, if you have three different shapes of toys (like circles, squares, and triangles), the LDA machine can only make two groups (3 - 1 = 2). If you try to ask the machine to make more than two groups, it gets confused and says, \"Whoa! I can't make more groups than there are shapes minus one!\"\n",
    "\n",
    "To solve this, you need to tell the LDA machine, \"Hey, I understand your rule. Let's make only as many groups as there are shapes minus one.\" You do this by setting the number of groups (n_components) to be less than or equal to the number of shapes minus one.\n",
    "\n",
    "So, you check how many shapes you have and say, \"Okay, I'll make this many groups.\" That way, the LDA machine is happy, and you get your organized toy groups without any confusion!\n",
    "\n",
    "\n",
    "\n",
    "No.of columns(X_train) and unique values(Y_train) must be its depends on the datsets here we caluclate this wine dataset\n",
    "X_train.shape[1]=27\n",
    "len(np.unique(y_train))=2\n",
    "\n",
    "n_components = min(X_train.shape[1], len(np.unique(y_train))) - 1\n",
    "n_components = min(27, 2)) - 1\n",
    "n_components=2-1=1\n",
    "n_components =1\n",
    "\n",
    "#explain these formula and how we got results is n_componenets=2 \n",
    "\n",
    "You have a set of toys (or data) represented by X_train. Each toy has 13 different features, which we can think of as 27 different colors. These features are denoted by X_train.shape[1] = 27.\n",
    "\n",
    "Now, these toys also belong to different categories, let's say three different categories or shapes. The categories are represented by y_train. So, you have 3 unique categories or classes, which is given by len(np.unique(y_train)) = 2.\n",
    "\n",
    "Now, according to the rule of the magical machine LDA, it can only make as many groups as there are different shapes (classes) minus one. Therefore, to find the maximum number of groups (n_components) that LDA can make, you use the formula:\n",
    "\n",
    "                                                                                                                                \n",
    "n_components=min(X_train.shape[1],len(np.unique(y_train)))−1\n",
    "                                                                                                                                \n",
    "Here's how we compute it:\n",
    "                                                                                                                                \n",
    "n_components=min(27,2)−1\n",
    "Now, since 3 is the smaller number, it becomes:\n",
    "n_components=2−1=1\n",
    "\n",
    "Therefore, n_components=1. This means that according to the rule, LDA can create at most 2 groups to organize the toys based on both color (features) and shape (classes).     (or) \n",
    "\n",
    "\n",
    "Eg :In this case LDA performs only based on the n_compenents eg:n_components=1 menas LDA performs only for this n_components =1 similarly this same case will applicable for based on the N_componenets =2,3,4 etc and to the respective dataset\n",
    "                                                                                                                           n_components =1 (1 we will perform 1 LDA only using this components for this respective dataset)     \n",
    "n_components =2 (1,2 we will perform 2 LDA only using this components for this respective dataset)\n",
    "                                                     \n",
    "                                                                                                                                \n",
    "                                                                                                                                "
   ]
  },
  {
   "cell_type": "code",
   "execution_count": null,
   "id": "b57b8ff0",
   "metadata": {},
   "outputs": [],
   "source": []
  },
  {
   "cell_type": "code",
   "execution_count": null,
   "id": "70b859bc",
   "metadata": {},
   "outputs": [],
   "source": []
  },
  {
   "cell_type": "code",
   "execution_count": null,
   "id": "6b1d8b5b",
   "metadata": {},
   "outputs": [],
   "source": []
  },
  {
   "cell_type": "code",
   "execution_count": null,
   "id": "c413d522",
   "metadata": {},
   "outputs": [],
   "source": []
  },
  {
   "cell_type": "code",
   "execution_count": null,
   "id": "1150a279",
   "metadata": {},
   "outputs": [],
   "source": []
  }
 ],
 "metadata": {
  "kernelspec": {
   "display_name": "Python 3 (ipykernel)",
   "language": "python",
   "name": "python3"
  },
  "language_info": {
   "codemirror_mode": {
    "name": "ipython",
    "version": 3
   },
   "file_extension": ".py",
   "mimetype": "text/x-python",
   "name": "python",
   "nbconvert_exporter": "python",
   "pygments_lexer": "ipython3",
   "version": "3.7.6"
  }
 },
 "nbformat": 4,
 "nbformat_minor": 5
}
